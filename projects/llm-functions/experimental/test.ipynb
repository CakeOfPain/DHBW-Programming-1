{
 "cells": [
  {
   "cell_type": "code",
   "execution_count": 5,
   "metadata": {},
   "outputs": [
    {
     "name": "stdout",
     "output_type": "stream",
     "text": [
      "Dear Dr. Medical,\n",
      "I hope this email finds you well. I would like to schedule an appointment with you for a medical checkup. I am interested in your services and would like to know more about them. Could you please provide me with information on the dates and times of your availability? Additionally, could you also let me know if there are any specific requirements or documents that I need to bring with me to the appointment?\n",
      "Thank you for your time and consideration.\n",
      "Best regards,\n",
      "Carolina Esther\n"
     ]
    }
   ],
   "source": [
    "import llmfunction\n",
    "\n",
    "subject = \"medical appointment\"\n",
    "sender  = \"Carolina.Esther@outlook.de\"\n",
    "receiver = \"dr.medical@arzt-email.de\"\n",
    "\n",
    "emailWriter = llmfunction.EmailWriter(\n",
    "    subject,\n",
    "    sender,\n",
    "    receiver\n",
    ")\n",
    "\n",
    "emailContent = emailWriter.run()\n",
    "print(emailContent)"
   ]
  },
  {
   "cell_type": "code",
   "execution_count": 6,
   "metadata": {},
   "outputs": [
    {
     "name": "stdout",
     "output_type": "stream",
     "text": [
      "Dear Carolina Esther,\n",
      "Thank you for reaching out to us. We would be happy to schedule an appointment with Dr. Medical for a medical checkup. Please let us know your preferred date and time, and we will do our best to accommodate your request. In terms of requirements, please bring any relevant medical documents or medications that you are currently taking.\n",
      "We look forward to seeing you at the appointment.\n",
      "Best regards,\n",
      "Dr. Medical's Assistant\n"
     ]
    }
   ],
   "source": [
    "\n",
    "class EmailAnswerer(llmfunction.LlmFunction):\n",
    "    def __init__(self, subject, sender, receiver, content, context=None):\n",
    "        super().__init__(\n",
    "            model=\"mistral:latest\",\n",
    "            label=\"email-answerer\",\n",
    "            description=\"Replies to an email\",\n",
    "            stops=[\"###\"]\n",
    "        )\n",
    "        if context != None:\n",
    "            self.writeLine(\"### context:\")\n",
    "            self.writeLine(context)\n",
    "        self.writeLine(\"### subject:\")\n",
    "        self.writeLine(subject)\n",
    "        self.writeLine(\"### sender:\")\n",
    "        self.writeLine(sender)\n",
    "        self.writeLine(\"### receiver:\")\n",
    "        self.writeLine(receiver)\n",
    "        self.writeLine(\"### content:\")\n",
    "        self.writeLine(content)\n",
    "        self.writeLine(\"### reply:\")\n",
    "\n",
    "emailReplier = EmailAnswerer(subject, sender, receiver, emailContent)\n",
    "reply = emailReplier.run()\n",
    "print(reply)"
   ]
  }
 ],
 "metadata": {
  "kernelspec": {
   "display_name": "Python 3",
   "language": "python",
   "name": "python3"
  },
  "language_info": {
   "codemirror_mode": {
    "name": "ipython",
    "version": 3
   },
   "file_extension": ".py",
   "mimetype": "text/x-python",
   "name": "python",
   "nbconvert_exporter": "python",
   "pygments_lexer": "ipython3",
   "version": "3.9.18"
  }
 },
 "nbformat": 4,
 "nbformat_minor": 2
}
